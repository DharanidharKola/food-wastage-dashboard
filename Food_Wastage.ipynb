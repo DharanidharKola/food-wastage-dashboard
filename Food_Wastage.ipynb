{
  "nbformat": 4,
  "nbformat_minor": 0,
  "metadata": {
    "colab": {
      "provenance": [],
      "authorship_tag": "ABX9TyM16nC42K508ODOBjdCUH0Y",
      "include_colab_link": true
    },
    "kernelspec": {
      "name": "python3",
      "display_name": "Python 3"
    },
    "language_info": {
      "name": "python"
    }
  },
  "cells": [
    {
      "cell_type": "markdown",
      "metadata": {
        "id": "view-in-github",
        "colab_type": "text"
      },
      "source": [
        "<a href=\"https://colab.research.google.com/github/DharanidharKola/food-wastage-dashboard/blob/main/Food_Wastage.ipynb\" target=\"_parent\"><img src=\"https://colab.research.google.com/assets/colab-badge.svg\" alt=\"Open In Colab\"/></a>"
      ]
    },
    {
      "cell_type": "markdown",
      "source": [
        "# **Optimizing Food Wastage Analytics**"
      ],
      "metadata": {
        "id": "XTOC_klWzluG"
      }
    },
    {
      "cell_type": "markdown",
      "source": [
        "This project demonstrates the development of a Food Wastage Dashboard using PostgreSQL as the backend database and Streamlit for building the interactive web-based dashboard. The project highlights how food wastage data can be stored, queried, and visualized using SQL views, Python (Pandas, SQLAlchemy), and Plotly charts."
      ],
      "metadata": {
        "id": "hqw3CatF115j"
      }
    },
    {
      "cell_type": "code",
      "execution_count": null,
      "metadata": {
        "id": "5ukosOcUq6AA",
        "colab": {
          "base_uri": "https://localhost:8080/",
          "height": 175
        },
        "outputId": "2fca619e-8de0-4336-fc86-4651bd53d5fa"
      },
      "outputs": [
        {
          "output_type": "display_data",
          "data": {
            "text/plain": [
              "<IPython.core.display.HTML object>"
            ],
            "text/html": [
              "\n",
              "     <input type=\"file\" id=\"files-dac86f71-0e52-4f81-8c82-59ac0058862c\" name=\"files[]\" multiple disabled\n",
              "        style=\"border:none\" />\n",
              "     <output id=\"result-dac86f71-0e52-4f81-8c82-59ac0058862c\">\n",
              "      Upload widget is only available when the cell has been executed in the\n",
              "      current browser session. Please rerun this cell to enable.\n",
              "      </output>\n",
              "      <script>// Copyright 2017 Google LLC\n",
              "//\n",
              "// Licensed under the Apache License, Version 2.0 (the \"License\");\n",
              "// you may not use this file except in compliance with the License.\n",
              "// You may obtain a copy of the License at\n",
              "//\n",
              "//      http://www.apache.org/licenses/LICENSE-2.0\n",
              "//\n",
              "// Unless required by applicable law or agreed to in writing, software\n",
              "// distributed under the License is distributed on an \"AS IS\" BASIS,\n",
              "// WITHOUT WARRANTIES OR CONDITIONS OF ANY KIND, either express or implied.\n",
              "// See the License for the specific language governing permissions and\n",
              "// limitations under the License.\n",
              "\n",
              "/**\n",
              " * @fileoverview Helpers for google.colab Python module.\n",
              " */\n",
              "(function(scope) {\n",
              "function span(text, styleAttributes = {}) {\n",
              "  const element = document.createElement('span');\n",
              "  element.textContent = text;\n",
              "  for (const key of Object.keys(styleAttributes)) {\n",
              "    element.style[key] = styleAttributes[key];\n",
              "  }\n",
              "  return element;\n",
              "}\n",
              "\n",
              "// Max number of bytes which will be uploaded at a time.\n",
              "const MAX_PAYLOAD_SIZE = 100 * 1024;\n",
              "\n",
              "function _uploadFiles(inputId, outputId) {\n",
              "  const steps = uploadFilesStep(inputId, outputId);\n",
              "  const outputElement = document.getElementById(outputId);\n",
              "  // Cache steps on the outputElement to make it available for the next call\n",
              "  // to uploadFilesContinue from Python.\n",
              "  outputElement.steps = steps;\n",
              "\n",
              "  return _uploadFilesContinue(outputId);\n",
              "}\n",
              "\n",
              "// This is roughly an async generator (not supported in the browser yet),\n",
              "// where there are multiple asynchronous steps and the Python side is going\n",
              "// to poll for completion of each step.\n",
              "// This uses a Promise to block the python side on completion of each step,\n",
              "// then passes the result of the previous step as the input to the next step.\n",
              "function _uploadFilesContinue(outputId) {\n",
              "  const outputElement = document.getElementById(outputId);\n",
              "  const steps = outputElement.steps;\n",
              "\n",
              "  const next = steps.next(outputElement.lastPromiseValue);\n",
              "  return Promise.resolve(next.value.promise).then((value) => {\n",
              "    // Cache the last promise value to make it available to the next\n",
              "    // step of the generator.\n",
              "    outputElement.lastPromiseValue = value;\n",
              "    return next.value.response;\n",
              "  });\n",
              "}\n",
              "\n",
              "/**\n",
              " * Generator function which is called between each async step of the upload\n",
              " * process.\n",
              " * @param {string} inputId Element ID of the input file picker element.\n",
              " * @param {string} outputId Element ID of the output display.\n",
              " * @return {!Iterable<!Object>} Iterable of next steps.\n",
              " */\n",
              "function* uploadFilesStep(inputId, outputId) {\n",
              "  const inputElement = document.getElementById(inputId);\n",
              "  inputElement.disabled = false;\n",
              "\n",
              "  const outputElement = document.getElementById(outputId);\n",
              "  outputElement.innerHTML = '';\n",
              "\n",
              "  const pickedPromise = new Promise((resolve) => {\n",
              "    inputElement.addEventListener('change', (e) => {\n",
              "      resolve(e.target.files);\n",
              "    });\n",
              "  });\n",
              "\n",
              "  const cancel = document.createElement('button');\n",
              "  inputElement.parentElement.appendChild(cancel);\n",
              "  cancel.textContent = 'Cancel upload';\n",
              "  const cancelPromise = new Promise((resolve) => {\n",
              "    cancel.onclick = () => {\n",
              "      resolve(null);\n",
              "    };\n",
              "  });\n",
              "\n",
              "  // Wait for the user to pick the files.\n",
              "  const files = yield {\n",
              "    promise: Promise.race([pickedPromise, cancelPromise]),\n",
              "    response: {\n",
              "      action: 'starting',\n",
              "    }\n",
              "  };\n",
              "\n",
              "  cancel.remove();\n",
              "\n",
              "  // Disable the input element since further picks are not allowed.\n",
              "  inputElement.disabled = true;\n",
              "\n",
              "  if (!files) {\n",
              "    return {\n",
              "      response: {\n",
              "        action: 'complete',\n",
              "      }\n",
              "    };\n",
              "  }\n",
              "\n",
              "  for (const file of files) {\n",
              "    const li = document.createElement('li');\n",
              "    li.append(span(file.name, {fontWeight: 'bold'}));\n",
              "    li.append(span(\n",
              "        `(${file.type || 'n/a'}) - ${file.size} bytes, ` +\n",
              "        `last modified: ${\n",
              "            file.lastModifiedDate ? file.lastModifiedDate.toLocaleDateString() :\n",
              "                                    'n/a'} - `));\n",
              "    const percent = span('0% done');\n",
              "    li.appendChild(percent);\n",
              "\n",
              "    outputElement.appendChild(li);\n",
              "\n",
              "    const fileDataPromise = new Promise((resolve) => {\n",
              "      const reader = new FileReader();\n",
              "      reader.onload = (e) => {\n",
              "        resolve(e.target.result);\n",
              "      };\n",
              "      reader.readAsArrayBuffer(file);\n",
              "    });\n",
              "    // Wait for the data to be ready.\n",
              "    let fileData = yield {\n",
              "      promise: fileDataPromise,\n",
              "      response: {\n",
              "        action: 'continue',\n",
              "      }\n",
              "    };\n",
              "\n",
              "    // Use a chunked sending to avoid message size limits. See b/62115660.\n",
              "    let position = 0;\n",
              "    do {\n",
              "      const length = Math.min(fileData.byteLength - position, MAX_PAYLOAD_SIZE);\n",
              "      const chunk = new Uint8Array(fileData, position, length);\n",
              "      position += length;\n",
              "\n",
              "      const base64 = btoa(String.fromCharCode.apply(null, chunk));\n",
              "      yield {\n",
              "        response: {\n",
              "          action: 'append',\n",
              "          file: file.name,\n",
              "          data: base64,\n",
              "        },\n",
              "      };\n",
              "\n",
              "      let percentDone = fileData.byteLength === 0 ?\n",
              "          100 :\n",
              "          Math.round((position / fileData.byteLength) * 100);\n",
              "      percent.textContent = `${percentDone}% done`;\n",
              "\n",
              "    } while (position < fileData.byteLength);\n",
              "  }\n",
              "\n",
              "  // All done.\n",
              "  yield {\n",
              "    response: {\n",
              "      action: 'complete',\n",
              "    }\n",
              "  };\n",
              "}\n",
              "\n",
              "scope.google = scope.google || {};\n",
              "scope.google.colab = scope.google.colab || {};\n",
              "scope.google.colab._files = {\n",
              "  _uploadFiles,\n",
              "  _uploadFilesContinue,\n",
              "};\n",
              "})(self);\n",
              "</script> "
            ]
          },
          "metadata": {}
        },
        {
          "output_type": "stream",
          "name": "stdout",
          "text": [
            "Saving claims_data.csv to claims_data.csv\n",
            "Saving food_listings_data.csv to food_listings_data.csv\n",
            "Saving providers_data.csv to providers_data.csv\n",
            "Saving receivers_data.csv to receivers_data.csv\n"
          ]
        }
      ],
      "source": [
        "from google.colab import files\n",
        "uploaded=files.upload()"
      ]
    },
    {
      "cell_type": "code",
      "source": [
        "import pandas as pd\n",
        "\n",
        "# Load raw data\n",
        "providers = pd.read_csv(\"providers_data.csv\")\n",
        "receivers = pd.read_csv(\"receivers_data.csv\")\n",
        "listings = pd.read_csv(\"food_listings_data.csv\")\n",
        "claims = pd.read_csv(\"claims_data.csv\")"
      ],
      "metadata": {
        "id": "ACHH1Av3ruBq"
      },
      "execution_count": null,
      "outputs": []
    },
    {
      "cell_type": "code",
      "source": [
        "# Convert dates\n",
        "listings['Expiry_Date']=pd.to_datetime(listings['Expiry_Date'])\n",
        "claims['Timestamp']=pd.to_datetime(claims['Timestamp'])"
      ],
      "metadata": {
        "id": "8PY0xe3pr7mQ"
      },
      "execution_count": null,
      "outputs": []
    },
    {
      "cell_type": "code",
      "source": [
        "# Merge all into one dataframe\n",
        "merged_df = claims.merge(listings, on=\"Food_ID\", how=\"left\", suffixes=(\"_claim\", \"_listing\")) \\\n",
        "                  .merge(providers, on=\"Provider_ID\", how=\"left\", suffixes=(\"_listing\", \"_provider\")) \\\n",
        "                  .merge(receivers, on=\"Receiver_ID\", how=\"left\", suffixes=(\"\", \"_receiver\"))"
      ],
      "metadata": {
        "id": "kl8Kt56NtBVO"
      },
      "execution_count": null,
      "outputs": []
    },
    {
      "cell_type": "code",
      "source": [
        "# 🔹 Check for null values\n",
        "print(\"\\n🔍 Null Values in Each Column:\")\n",
        "print(merged_df.isnull().sum())"
      ],
      "metadata": {
        "colab": {
          "base_uri": "https://localhost:8080/"
        },
        "id": "zuW0OnClzzM1",
        "outputId": "8727ef28-07bd-44d2-8de9-12daa0f8ac51"
      },
      "execution_count": null,
      "outputs": [
        {
          "output_type": "stream",
          "name": "stdout",
          "text": [
            "\n",
            "🔍 Null Values in Each Column:\n",
            "Claim_ID            0\n",
            "Food_ID             0\n",
            "Receiver_ID         0\n",
            "Status              0\n",
            "Timestamp           0\n",
            "Food_Name           0\n",
            "Quantity            0\n",
            "Expiry_Date         0\n",
            "Provider_ID         0\n",
            "Provider_Type       0\n",
            "Location            0\n",
            "Food_Type           0\n",
            "Meal_Type           0\n",
            "Name                0\n",
            "Type                0\n",
            "Address             0\n",
            "City                0\n",
            "Contact             0\n",
            "Name_receiver       0\n",
            "Type_receiver       0\n",
            "City_receiver       0\n",
            "Contact_receiver    0\n",
            "dtype: int64\n"
          ]
        }
      ]
    },
    {
      "cell_type": "code",
      "source": [
        "# 🔹 Check for duplicates\n",
        "duplicate_count = merged_df.duplicated().sum()\n",
        "print(f\"\\n🔍 Duplicate Rows Found: {duplicate_count}\")\n",
        "if duplicate_count > 0:\n",
        "    merged_df = merged_df.drop_duplicates()\n",
        "    print(\"✅ Duplicates removed.\")"
      ],
      "metadata": {
        "colab": {
          "base_uri": "https://localhost:8080/"
        },
        "id": "IZyyslEg07Cn",
        "outputId": "ff40afb8-21b4-44d1-9d0b-6ffe567de908"
      },
      "execution_count": null,
      "outputs": [
        {
          "output_type": "stream",
          "name": "stdout",
          "text": [
            "\n",
            "🔍 Duplicate Rows Found: 0\n"
          ]
        }
      ]
    },
    {
      "cell_type": "code",
      "source": [
        "# 🔹 Check data types\n",
        "print(\"\\n Data Types of Each Column:\")\n",
        "print(merged_df.dtypes)"
      ],
      "metadata": {
        "colab": {
          "base_uri": "https://localhost:8080/"
        },
        "id": "Yu2lYE4C1Awc",
        "outputId": "28614b7d-30ec-4f62-c382-b287dd242003"
      },
      "execution_count": null,
      "outputs": [
        {
          "output_type": "stream",
          "name": "stdout",
          "text": [
            "\n",
            " Data Types of Each Column:\n",
            "Claim_ID                     int64\n",
            "Food_ID                      int64\n",
            "Receiver_ID                  int64\n",
            "Status                      object\n",
            "Timestamp           datetime64[ns]\n",
            "Food_Name                   object\n",
            "Quantity                     int64\n",
            "Expiry_Date         datetime64[ns]\n",
            "Provider_ID                  int64\n",
            "Provider_Type               object\n",
            "Location                    object\n",
            "Food_Type                   object\n",
            "Meal_Type                   object\n",
            "Name                        object\n",
            "Type                        object\n",
            "Address                     object\n",
            "City                        object\n",
            "Contact                     object\n",
            "Name_receiver               object\n",
            "Type_receiver               object\n",
            "City_receiver               object\n",
            "Contact_receiver            object\n",
            "dtype: object\n"
          ]
        }
      ]
    },
    {
      "cell_type": "code",
      "source": [
        "# Save to single CSV\n",
        "merged_df.to_csv(\"Food_Wastage.csv\", index=False)\n",
        "print(\"\\n✅ Food_Wastage.csv created successfully.\")"
      ],
      "metadata": {
        "colab": {
          "base_uri": "https://localhost:8080/"
        },
        "id": "piQrlUQO1DNi",
        "outputId": "b9977aac-3c78-4c2e-9ab4-c5811b202752"
      },
      "execution_count": null,
      "outputs": [
        {
          "output_type": "stream",
          "name": "stdout",
          "text": [
            "\n",
            "✅ Food_Wastage.csv created successfully.\n"
          ]
        }
      ]
    },
    {
      "cell_type": "code",
      "source": [],
      "metadata": {
        "id": "NLQssQqR7Uld"
      },
      "execution_count": null,
      "outputs": []
    }
  ]
}